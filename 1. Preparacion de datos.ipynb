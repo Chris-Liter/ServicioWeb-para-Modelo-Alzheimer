{
 "cells": [
  {
   "cell_type": "markdown",
   "metadata": {},
   "source": [
    "### Preparación del Dataset\n",
    "\n",
    "Las imágenes se extraen de el archivo ZIP especificado con las 40384 y se procesan mediante varias transformaciones:\n",
    "\n",
    "Redimensionar: Cada imagen se escala a un tamaño uniforme de 224x224 píxeles.\n",
    "\n",
    "Conversión a escala de grises: Las imágenes de 3 canales (RGB) se convierten a un solo canal (grises).\n",
    "\n",
    "Aplicar CLAHE: Se mejora el contraste de las imágenes utilizando el método de ecualización adaptativa de histograma limitado por contraste(CLAHE), visto en Vision Por Computador.\n"
   ]
  },
  {
   "cell_type": "code",
   "execution_count": null,
   "metadata": {
    "colab": {
     "base_uri": "https://localhost:8080/"
    },
    "id": "pM06Qk8UQJMs",
    "outputId": "dd9091d1-7866-4da0-b916-f8557239f274"
   },
   "outputs": [
    {
     "name": "stdout",
     "output_type": "stream",
     "text": [
      "Drive already mounted at /content/drive; to attempt to forcibly remount, call drive.mount(\"/content/drive\", force_remount=True).\n"
     ]
    }
   ],
   "source": [
    "from google.colab import drive\n",
    "drive.mount('/content/drive')"
   ]
  },
  {
   "cell_type": "code",
   "execution_count": null,
   "metadata": {
    "colab": {
     "base_uri": "https://localhost:8080/"
    },
    "id": "9cyHqCksuJeK",
    "outputId": "d2f4acbe-b08b-4baa-c2a1-617e19fe2d52"
   },
   "outputs": [
    {
     "name": "stdout",
     "output_type": "stream",
     "text": [
      "Imágenes procesadas guardadas en el nuevo archivo ZIP: /content/drive/MyDrive/Imagenes IA/SimplifiedProcessedAlzheimerDataset.zip\n"
     ]
    }
   ],
   "source": [
    "import zipfile\n",
    "import cv2\n",
    "import numpy as np\n",
    "\n",
    "# Ruta al archivo ZIP original\n",
    "zip_file_path = '/content/drive/MyDrive/Imagenes IA/AugmentedAlzheimerDataset.zip'\n",
    "\n",
    "# Ruta del nuevo archivo ZIP donde se guardarán las imágenes procesadas\n",
    "output_zip_file_path = '/content/drive/MyDrive/Imagenes IA/SimplifiedProcessedAlzheimerDataset.zip'\n",
    "\n",
    "# Subdirectorio donde están las clases\n",
    "subdir = \"AugmentedAlzheimerDataset\"\n",
    "\n",
    "# Función para aplicar CLAHE, redimensionar y normalizar las imágenes\n",
    "def apply_clahe_resize_and_normalize(image):\n",
    "    # Redimensionar la imagen a 224x224\n",
    "    resized_image = cv2.resize(image, (224, 224))\n",
    "\n",
    "    # Convertir la imagen a escala de grises\n",
    "    gray_image = cv2.cvtColor(resized_image, cv2.COLOR_BGR2GRAY)\n",
    "\n",
    "    # Aplicar CLAHE\n",
    "    clahe = cv2.createCLAHE(clipLimit=2.0, tileGridSize=(8, 8))\n",
    "    clahe_image = clahe.apply(gray_image)\n",
    "\n",
    "    # Normalizar la imagen (escala de 0 a 1)\n",
    "    normalized_image = clahe_image / 255.0  # Normalizar a [0, 1]\n",
    "\n",
    "    return normalized_image\n",
    "\n",
    "# Procesar y guardar las imágenes en un nuevo archivo ZIP\n",
    "with zipfile.ZipFile(zip_file_path, 'r') as zip_ref:\n",
    "    with zipfile.ZipFile(output_zip_file_path, 'w') as output_zip_ref:\n",
    "        for file_name in zip_ref.namelist():\n",
    "            # Filtrar archivos dentro del subdirectorio especificado\n",
    "            if file_name.startswith(f\"{subdir}/\") and file_name.lower().endswith(('.jpg', '.jpeg', '.png', '.bmp')):\n",
    "                # Extraer la clase del archivo (carpeta dentro del subdirectorio)\n",
    "                relative_path = file_name[len(subdir) + 1:]  # Quitar el subdirectorio del path\n",
    "                if '/' in relative_path:\n",
    "                    class_name, file_basename = relative_path.split('/', 1)  # Obtener clase y nombre del archivo\n",
    "\n",
    "                    # Leer la imagen\n",
    "                    with zip_ref.open(file_name) as file:\n",
    "                        img_data = file.read()\n",
    "                        img_array = np.asarray(bytearray(img_data), dtype=np.uint8)\n",
    "                        img = cv2.imdecode(img_array, cv2.IMREAD_COLOR)\n",
    "\n",
    "                        if img is not None:\n",
    "                            # Aplicar las transformaciones\n",
    "                            processed_img = apply_clahe_resize_and_normalize(img)\n",
    "\n",
    "                            # Convertir imagen procesada a bytes\n",
    "                            _, img_encoded = cv2.imencode('.jpg', processed_img * 255)  # Escalar de [0, 1] a [0, 255]\n",
    "                            img_bytes = img_encoded.tobytes()\n",
    "\n",
    "                            # Guardar en el nuevo ZIP bajo el nivel directo de clases\n",
    "                            new_file_name = f\"{class_name}/{file_basename}\"\n",
    "                            output_zip_ref.writestr(new_file_name, img_bytes)\n",
    "\n",
    "print(f\"Imágenes procesadas guardadas en el nuevo archivo ZIP: {output_zip_file_path}\")\n"
   ]
  },
  {
   "cell_type": "markdown",
   "metadata": {},
   "source": [
    "Las imágenes transformadas se guardan en un nuevo archivo ZIP, organizado por clases según el directorio original."
   ]
  },
  {
   "cell_type": "markdown",
   "metadata": {},
   "source": []
  }
 ],
 "metadata": {
  "accelerator": "GPU",
  "colab": {
   "gpuType": "T4",
   "provenance": []
  },
  "kernelspec": {
   "display_name": "Python 3",
   "name": "python3"
  },
  "language_info": {
   "name": "python"
  }
 },
 "nbformat": 4,
 "nbformat_minor": 0
}
